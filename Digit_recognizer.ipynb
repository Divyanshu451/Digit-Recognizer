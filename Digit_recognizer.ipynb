{
  "nbformat": 4,
  "nbformat_minor": 0,
  "metadata": {
    "colab": {
      "name": "Digit recognizer.ipynb",
      "provenance": [],
      "authorship_tag": "ABX9TyP4xhxMBetQ1aOtjwwTgC1s",
      "include_colab_link": true
    },
    "kernelspec": {
      "name": "python3",
      "display_name": "Python 3"
    }
  },
  "cells": [
    {
      "cell_type": "markdown",
      "metadata": {
        "id": "view-in-github",
        "colab_type": "text"
      },
      "source": [
        "<a href=\"https://colab.research.google.com/github/Divyanshu451/Digit-Recognizer/blob/master/Digit_recognizer.ipynb\" target=\"_parent\"><img src=\"https://colab.research.google.com/assets/colab-badge.svg\" alt=\"Open In Colab\"/></a>"
      ]
    },
    {
      "cell_type": "code",
      "metadata": {
        "id": "kcHrCCjU5rC8",
        "colab_type": "code",
        "colab": {}
      },
      "source": [
        "\n",
        "from keras.datasets import mnist\n"
      ],
      "execution_count": 1,
      "outputs": []
    },
    {
      "cell_type": "code",
      "metadata": {
        "id": "W8wcQZEN51MF",
        "colab_type": "code",
        "colab": {
          "base_uri": "https://localhost:8080/",
          "height": 302
        },
        "outputId": "7a1c965b-0854-4a7a-e950-b8ca31807ffc"
      },
      "source": [
        "import matplotlib.pyplot as plt\n",
        "# load (downloaded if needed) the MNIST dataset\n",
        "(X_train, y_train), (X_test, y_test) = mnist.load_data()\n",
        "# plot 4 images as gray scale\n",
        "plt.subplot(221)\n",
        "plt.imshow(X_train[0], cmap=plt.get_cmap('gray'))\n",
        "plt.subplot(222)\n",
        "plt.imshow(X_train[1], cmap=plt.get_cmap('gray'))\n",
        "plt.subplot(223)\n",
        "plt.imshow(X_train[2], cmap=plt.get_cmap('gray'))\n",
        "plt.subplot(224)\n",
        "plt.imshow(X_train[3], cmap=plt.get_cmap('gray'))\n",
        "# show the plot\n",
        "plt.show()"
      ],
      "execution_count": 2,
      "outputs": [
        {
          "output_type": "stream",
          "text": [
            "Downloading data from https://storage.googleapis.com/tensorflow/tf-keras-datasets/mnist.npz\n",
            "11493376/11490434 [==============================] - 0s 0us/step\n"
          ],
          "name": "stdout"
        },
        {
          "output_type": "display_data",
          "data": {
            "image/png": "[encoded data removed]",
            "text/plain": [
              "<Figure size 432x288 with 4 Axes>"
            ]
          },
          "metadata": {
            "tags": [],
            "needs_background": "light"
          }
        }
      ]
    },
    {
      "cell_type": "code",
      "metadata": {
        "id": "I_061TCw6z-J",
        "colab_type": "code",
        "colab": {}
      },
      "source": [
        "from keras.datasets import mnist\n",
        "from keras.models import Sequential\n",
        "from keras.layers import Dense\n",
        "from keras.layers import Dropout\n",
        "from keras.utils import np_utils"
      ],
      "execution_count": 3,
      "outputs": []
    },
    {
      "cell_type": "code",
      "metadata": {
        "id": "DfRAuDzW7ZAo",
        "colab_type": "code",
        "colab": {}
      },
      "source": [
        "(X_train, y_train), (X_test, y_test) = mnist.load_data()"
      ],
      "execution_count": 4,
      "outputs": []
    },
    {
      "cell_type": "code",
      "metadata": {
        "id": "hl26qFPz7bw-",
        "colab_type": "code",
        "colab": {}
      },
      "source": [
        "num_pixels = X_train.shape[1] * X_train.shape[2]\n",
        "X_train = X_train.reshape((X_train.shape[0], num_pixels)).astype('float32')\n",
        "X_test = X_test.reshape((X_test.shape[0], num_pixels)).astype('float32')"
      ],
      "execution_count": 5,
      "outputs": []
    },
    {
      "cell_type": "code",
      "metadata": {
        "id": "eHkB_ohp7frX",
        "colab_type": "code",
        "colab": {}
      },
      "source": [
        "X_train = X_train / 255\n",
        "X_test = X_test / 255"
      ],
      "execution_count": 6,
      "outputs": []
    },
    {
      "cell_type": "code",
      "metadata": {
        "id": "mBBAyvkH7jq8",
        "colab_type": "code",
        "colab": {}
      },
      "source": [
        "y_train = np_utils.to_categorical(y_train)\n",
        "y_test = np_utils.to_categorical(y_test)\n",
        "num_classes = y_test.shape[1]"
      ],
      "execution_count": 7,
      "outputs": []
    },
    {
      "cell_type": "code",
      "metadata": {
        "id": "IPrNS0Cg7nIO",
        "colab_type": "code",
        "colab": {}
      },
      "source": [
        "def baseline_model():\n",
        "\t# create model\n",
        "\tmodel = Sequential()\n",
        "\tmodel.add(Dense(num_pixels, input_dim=num_pixels, kernel_initializer='normal', activation='relu'))\n",
        "\tmodel.add(Dense(num_classes, kernel_initializer='normal', activation='softmax'))\n",
        "\t# Compile model\n",
        "\tmodel.compile(loss='categorical_crossentropy', optimizer='adam', metrics=['accuracy'])\n",
        "\treturn model"
      ],
      "execution_count": 8,
      "outputs": []
    },
    {
      "cell_type": "code",
      "metadata": {
        "id": "wfZtbyJJ7qXY",
        "colab_type": "code",
        "colab": {
          "base_uri": "https://localhost:8080/",
          "height": 370
        },
        "outputId": "cdd91fc4-9df4-4216-ee5d-900b3abfa51c"
      },
      "source": [
        "model = baseline_model()\n",
        "# Fit the model\n",
        "model.fit(X_train, y_train, validation_data=(X_test, y_test), epochs=10, batch_size=200, verbose=2)\n",
        "# Final evaluation of the model\n",
        "scores = model.evaluate(X_test, y_test, verbose=0)\n",
        "print(\"Baseline Error: %.2f%%\" % (100-scores[1]*100))"
      ],
      "execution_count": 9,
      "outputs": [
        {
          "output_type": "stream",
          "text": [
            "Epoch 1/10\n",
            "300/300 - 4s - loss: 0.2765 - accuracy: 0.9217 - val_loss: 0.1364 - val_accuracy: 0.9603\n",
            "Epoch 2/10\n",
            "300/300 - 4s - loss: 0.1103 - accuracy: 0.9678 - val_loss: 0.0955 - val_accuracy: 0.9711\n",
            "Epoch 3/10\n",
            "300/300 - 4s - loss: 0.0704 - accuracy: 0.9797 - val_loss: 0.0865 - val_accuracy: 0.9731\n",
            "Epoch 4/10\n",
            "300/300 - 4s - loss: 0.0498 - accuracy: 0.9855 - val_loss: 0.0729 - val_accuracy: 0.9772\n",
            "Epoch 5/10\n",
            "300/300 - 4s - loss: 0.0359 - accuracy: 0.9898 - val_loss: 0.0649 - val_accuracy: 0.9802\n",
            "Epoch 6/10\n",
            "300/300 - 4s - loss: 0.0263 - accuracy: 0.9931 - val_loss: 0.0606 - val_accuracy: 0.9813\n",
            "Epoch 7/10\n",
            "300/300 - 4s - loss: 0.0197 - accuracy: 0.9949 - val_loss: 0.0603 - val_accuracy: 0.9817\n",
            "Epoch 8/10\n",
            "300/300 - 4s - loss: 0.0152 - accuracy: 0.9965 - val_loss: 0.0594 - val_accuracy: 0.9823\n",
            "Epoch 9/10\n",
            "300/300 - 4s - loss: 0.0100 - accuracy: 0.9983 - val_loss: 0.0609 - val_accuracy: 0.9824\n",
            "Epoch 10/10\n",
            "300/300 - 4s - loss: 0.0077 - accuracy: 0.9986 - val_loss: 0.0638 - val_accuracy: 0.9804\n",
            "Baseline Error: 1.96%\n"
          ],
          "name": "stdout"
        }
      ]
    },
    {
      "cell_type": "code",
      "metadata": {
        "id": "p4ZXYsYINucP",
        "colab_type": "code",
        "colab": {
          "base_uri": "https://localhost:8080/",
          "height": 370
        },
        "outputId": "d942f888-9a8c-42b9-d096-5879da657c71"
      },
      "source": [
        "from keras.datasets import mnist\n",
        "from keras.models import Sequential\n",
        "from keras.layers import Dense\n",
        "from keras.utils import np_utils\n",
        "# load data\n",
        "(X_train, y_train), (X_test, y_test) = mnist.load_data()\n",
        "# flatten 28*28 images to a 784 vector for each image\n",
        "num_pixels = X_train.shape[1] * X_train.shape[2]\n",
        "X_train = X_train.reshape((X_train.shape[0], num_pixels)).astype('float32')\n",
        "X_test = X_test.reshape((X_test.shape[0], num_pixels)).astype('float32')\n",
        "# normalize inputs from 0-255 to 0-1\n",
        "X_train = X_train / 255\n",
        "X_test = X_test / 255\n",
        "# one hot encode outputs\n",
        "y_train = np_utils.to_categorical(y_train)\n",
        "y_test = np_utils.to_categorical(y_test)\n",
        "num_classes = y_test.shape[1]\n",
        "# define baseline model\n",
        "def baseline_model():\n",
        "\t# create model\n",
        "\tmodel = Sequential()\n",
        "\tmodel.add(Dense(num_pixels, input_dim=num_pixels, kernel_initializer='normal', activation='relu'))\n",
        "\tmodel.add(Dense(num_classes, kernel_initializer='normal', activation='softmax'))\n",
        "\t# Compile model\n",
        "\tmodel.compile(loss='categorical_crossentropy', optimizer='adam', metrics=['accuracy'])\n",
        "\treturn model\n",
        "# build the model\n",
        "model = baseline_model()\n",
        "# Fit the model\n",
        "model.fit(X_train, y_train, validation_data=(X_test, y_test), epochs=10, batch_size=200, verbose=2)\n",
        "# Final evaluation of the model\n",
        "scores = model.evaluate(X_test, y_test, verbose=0)\n",
        "print(\"Baseline Error: %.2f%%\" % (100-scores[1]*100))"
      ],
      "execution_count": 10,
      "outputs": [
        {
          "output_type": "stream",
          "text": [
            "Epoch 1/10\n",
            "300/300 - 4s - loss: 0.2836 - accuracy: 0.9200 - val_loss: 0.1414 - val_accuracy: 0.9583\n",
            "Epoch 2/10\n",
            "300/300 - 4s - loss: 0.1125 - accuracy: 0.9673 - val_loss: 0.0978 - val_accuracy: 0.9695\n",
            "Epoch 3/10\n",
            "300/300 - 4s - loss: 0.0710 - accuracy: 0.9793 - val_loss: 0.0847 - val_accuracy: 0.9737\n",
            "Epoch 4/10\n",
            "300/300 - 4s - loss: 0.0502 - accuracy: 0.9854 - val_loss: 0.0737 - val_accuracy: 0.9774\n",
            "Epoch 5/10\n",
            "300/300 - 4s - loss: 0.0358 - accuracy: 0.9903 - val_loss: 0.0676 - val_accuracy: 0.9786\n",
            "Epoch 6/10\n",
            "300/300 - 4s - loss: 0.0273 - accuracy: 0.9929 - val_loss: 0.0612 - val_accuracy: 0.9801\n",
            "Epoch 7/10\n",
            "300/300 - 4s - loss: 0.0201 - accuracy: 0.9947 - val_loss: 0.0633 - val_accuracy: 0.9794\n",
            "Epoch 8/10\n",
            "300/300 - 4s - loss: 0.0146 - accuracy: 0.9969 - val_loss: 0.0579 - val_accuracy: 0.9825\n",
            "Epoch 9/10\n",
            "300/300 - 4s - loss: 0.0107 - accuracy: 0.9980 - val_loss: 0.0585 - val_accuracy: 0.9821\n",
            "Epoch 10/10\n",
            "300/300 - 4s - loss: 0.0077 - accuracy: 0.9987 - val_loss: 0.0614 - val_accuracy: 0.9817\n",
            "Baseline Error: 1.83%\n"
          ],
          "name": "stdout"
        }
      ]
    },
    {
      "cell_type": "code",
      "metadata": {
        "id": "kySFswCFOGAM",
        "colab_type": "code",
        "colab": {}
      },
      "source": [
        "from keras.datasets import mnist\n",
        "from keras.models import Sequential\n",
        "from keras.layers import Dense\n",
        "from keras.layers import Dropout\n",
        "from keras.layers import Flatten\n",
        "from keras.layers.convolutional import Conv2D\n",
        "from keras.layers.convolutional import MaxPooling2D\n",
        "from keras.utils import np_utils"
      ],
      "execution_count": 11,
      "outputs": []
    },
    {
      "cell_type": "code",
      "metadata": {
        "id": "dLPZiEDoOXxJ",
        "colab_type": "code",
        "colab": {}
      },
      "source": [
        "(X_train, y_train), (X_test, y_test) = mnist.load_data()\n",
        "# reshape to be [samples][width][height][channels]\n",
        "X_train = X_train.reshape(X_train.shape[0], 28, 28, 1).astype('float32')\n",
        "X_test = X_test.reshape(X_test.shape[0], 28, 28, 1).astype('float32')"
      ],
      "execution_count": 12,
      "outputs": []
    },
    {
      "cell_type": "code",
      "metadata": {
        "id": "S2wgxlgZOaii",
        "colab_type": "code",
        "colab": {}
      },
      "source": [
        "X_train = X_train / 255\n",
        "X_test = X_test / 255\n",
        "# one hot encode outputs\n",
        "y_train = np_utils.to_categorical(y_train)\n",
        "y_test = np_utils.to_categorical(y_test)\n",
        "num_classes = y_test.shape[1]"
      ],
      "execution_count": 13,
      "outputs": []
    },
    {
      "cell_type": "code",
      "metadata": {
        "id": "Kp5FpbeMOedM",
        "colab_type": "code",
        "colab": {}
      },
      "source": [
        "def baseline_model2():\n",
        "\t# create model\n",
        "\tmodel = Sequential()\n",
        "\tmodel.add(Conv2D(32, (5, 5), input_shape=(28, 28, 1), activation='relu'))\n",
        "\tmodel.add(MaxPooling2D(pool_size=(2, 2)))\n",
        "\tmodel.add(Dropout(0.2))\n",
        "\tmodel.add(Flatten())\n",
        "\tmodel.add(Dense(128, activation='relu'))\n",
        "\tmodel.add(Dense(num_classes, activation='softmax'))\n",
        "\t# Compile model\n",
        "\tmodel.compile(loss='categorical_crossentropy', optimizer='adam', metrics=['accuracy'])\n",
        "\treturn model"
      ],
      "execution_count": 22,
      "outputs": []
    },
    {
      "cell_type": "code",
      "metadata": {
        "id": "DbEVqWaiOjh6",
        "colab_type": "code",
        "colab": {
          "base_uri": "https://localhost:8080/",
          "height": 370
        },
        "outputId": "3b1e1d8c-9d89-4a18-cb1f-a5b6b4ff8a96"
      },
      "source": [
        "model2 = baseline_model2()\n",
        "# Fit the model\n",
        "model2.fit(X_train, y_train, validation_data=(X_test, y_test), epochs=10, batch_size=200, verbose=2)\n",
        "# Final evaluation of the model\n",
        "scores = model2.evaluate(X_test, y_test, verbose=0)\n",
        "print(\"CNN Error: %.2f%%\" % (100-scores[1]*100))"
      ],
      "execution_count": 23,
      "outputs": [
        {
          "output_type": "stream",
          "text": [
            "Epoch 1/10\n",
            "300/300 - 29s - loss: 0.2345 - accuracy: 0.9321 - val_loss: 0.0746 - val_accuracy: 0.9769\n",
            "Epoch 2/10\n",
            "300/300 - 28s - loss: 0.0696 - accuracy: 0.9796 - val_loss: 0.0515 - val_accuracy: 0.9844\n",
            "Epoch 3/10\n",
            "300/300 - 28s - loss: 0.0487 - accuracy: 0.9856 - val_loss: 0.0452 - val_accuracy: 0.9847\n",
            "Epoch 4/10\n",
            "300/300 - 28s - loss: 0.0395 - accuracy: 0.9877 - val_loss: 0.0366 - val_accuracy: 0.9877\n",
            "Epoch 5/10\n",
            "300/300 - 28s - loss: 0.0316 - accuracy: 0.9900 - val_loss: 0.0325 - val_accuracy: 0.9896\n",
            "Epoch 6/10\n",
            "300/300 - 28s - loss: 0.0260 - accuracy: 0.9915 - val_loss: 0.0325 - val_accuracy: 0.9895\n",
            "Epoch 7/10\n",
            "300/300 - 28s - loss: 0.0211 - accuracy: 0.9934 - val_loss: 0.0274 - val_accuracy: 0.9919\n",
            "Epoch 8/10\n",
            "300/300 - 28s - loss: 0.0175 - accuracy: 0.9947 - val_loss: 0.0357 - val_accuracy: 0.9875\n",
            "Epoch 9/10\n",
            "300/300 - 28s - loss: 0.0147 - accuracy: 0.9952 - val_loss: 0.0330 - val_accuracy: 0.9898\n",
            "Epoch 10/10\n",
            "300/300 - 28s - loss: 0.0141 - accuracy: 0.9951 - val_loss: 0.0326 - val_accuracy: 0.9887\n",
            "CNN Error: 1.13%\n"
          ],
          "name": "stdout"
        }
      ]
    },
    {
      "cell_type": "code",
      "metadata": {
        "id": "nppH4PnrOlpO",
        "colab_type": "code",
        "colab": {
          "base_uri": "https://localhost:8080/",
          "height": 370
        },
        "outputId": "e0af4636-0c5a-4503-f62e-23df40f7cea3"
      },
      "source": [
        "from keras.datasets import mnist\n",
        "from keras.models import Sequential\n",
        "from keras.layers import Dense\n",
        "from keras.layers import Dropout\n",
        "from keras.layers import Flatten\n",
        "from keras.layers.convolutional import Conv2D\n",
        "from keras.layers.convolutional import MaxPooling2D\n",
        "from keras.utils import np_utils\n",
        "# load data\n",
        "(X_train, y_train), (X_test, y_test) = mnist.load_data()\n",
        "# reshape to be [samples][width][height][channels]\n",
        "X_train = X_train.reshape((X_train.shape[0], 28, 28, 1)).astype('float32')\n",
        "X_test = X_test.reshape((X_test.shape[0], 28, 28, 1)).astype('float32')\n",
        "# normalize inputs from 0-255 to 0-1\n",
        "X_train = X_train / 255\n",
        "X_test = X_test / 255\n",
        "# one hot encode outputs\n",
        "y_train = np_utils.to_categorical(y_train)\n",
        "y_test = np_utils.to_categorical(y_test)\n",
        "num_classes = y_test.shape[1]\n",
        "# define the larger model\n",
        "def larger_model():\n",
        "\t# create model\n",
        "\tmodel = Sequential()\n",
        "\tmodel.add(Conv2D(30, (5, 5), input_shape=(28, 28, 1), activation='relu'))\n",
        "\tmodel.add(MaxPooling2D())\n",
        "\tmodel.add(Conv2D(15, (3, 3), activation='relu'))\n",
        "\tmodel.add(MaxPooling2D())\n",
        "\tmodel.add(Dropout(0.2))\n",
        "\tmodel.add(Flatten())\n",
        "\tmodel.add(Dense(128, activation='relu'))\n",
        "\tmodel.add(Dense(50, activation='relu'))\n",
        "\tmodel.add(Dense(num_classes, activation='softmax'))\n",
        "\t# Compile model\n",
        "\tmodel.compile(loss='categorical_crossentropy', optimizer='adam', metrics=['accuracy'])\n",
        "\treturn model\n",
        "# build the model\n",
        "model = larger_model()\n",
        "# Fit the model\n",
        "model.fit(X_train, y_train, validation_data=(X_test, y_test), epochs=10, batch_size=200)\n",
        "# Final evaluation of the model\n",
        "scores = model.evaluate(X_test, y_test, verbose=0)\n",
        "print(\"Large CNN Error: %.2f%%\" % (100-scores[1]*100))"
      ],
      "execution_count": 24,
      "outputs": [
        {
          "output_type": "stream",
          "text": [
            "Epoch 1/10\n",
            "300/300 [==============================] - 35s 118ms/step - loss: 0.3833 - accuracy: 0.8823 - val_loss: 0.0931 - val_accuracy: 0.9733\n",
            "Epoch 2/10\n",
            "300/300 [==============================] - 35s 117ms/step - loss: 0.1023 - accuracy: 0.9683 - val_loss: 0.0561 - val_accuracy: 0.9826\n",
            "Epoch 3/10\n",
            "300/300 [==============================] - 35s 117ms/step - loss: 0.0761 - accuracy: 0.9765 - val_loss: 0.0467 - val_accuracy: 0.9851\n",
            "Epoch 4/10\n",
            "300/300 [==============================] - 35s 116ms/step - loss: 0.0645 - accuracy: 0.9805 - val_loss: 0.0361 - val_accuracy: 0.9869\n",
            "Epoch 5/10\n",
            "300/300 [==============================] - 35s 116ms/step - loss: 0.0549 - accuracy: 0.9827 - val_loss: 0.0387 - val_accuracy: 0.9872\n",
            "Epoch 6/10\n",
            "300/300 [==============================] - 35s 116ms/step - loss: 0.0490 - accuracy: 0.9844 - val_loss: 0.0323 - val_accuracy: 0.9901\n",
            "Epoch 7/10\n",
            "300/300 [==============================] - 35s 116ms/step - loss: 0.0426 - accuracy: 0.9863 - val_loss: 0.0266 - val_accuracy: 0.9915\n",
            "Epoch 8/10\n",
            "300/300 [==============================] - 35s 115ms/step - loss: 0.0390 - accuracy: 0.9875 - val_loss: 0.0265 - val_accuracy: 0.9916\n",
            "Epoch 9/10\n",
            "300/300 [==============================] - 35s 115ms/step - loss: 0.0360 - accuracy: 0.9887 - val_loss: 0.0258 - val_accuracy: 0.9920\n",
            "Epoch 10/10\n",
            "300/300 [==============================] - 35s 116ms/step - loss: 0.0327 - accuracy: 0.9898 - val_loss: 0.0295 - val_accuracy: 0.9909\n",
            "Large CNN Error: 0.91%\n"
          ],
          "name": "stdout"
        }
      ]
    },
    {
      "cell_type": "code",
      "metadata": {
        "id": "AWrDOXsVU6K5",
        "colab_type": "code",
        "colab": {}
      },
      "source": [
        ""
      ],
      "execution_count": null,
      "outputs": []
    }
  ]
}